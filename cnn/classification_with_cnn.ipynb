{
 "cells": [
  {
   "cell_type": "code",
   "execution_count": 1,
   "metadata": {},
   "outputs": [
    {
     "name": "stderr",
     "output_type": "stream",
     "text": [
      "Using TensorFlow backend.\n"
     ]
    }
   ],
   "source": [
    "import pandas as pd\n",
    "import numpy as np\n",
    "import matplotlib.pyplot as plt\n",
    "from sklearn.preprocessing import StandardScaler\n",
    "from sklearn.model_selection import train_test_split\n",
    "from sklearn.metrics import roc_auc_score, roc_curve, classification_report, precision_recall_fscore_support\n",
    "\n",
    "from keras.callbacks import EarlyStopping\n",
    "from keras.models import Sequential\n",
    "from keras.layers import Dense, Dropout, Flatten, Conv1D, MaxPool1D, Activation\n",
    "from keras.utils import to_categorical\n",
    "from keras.losses import binary_crossentropy\n",
    "from keras.optimizers import Adam\n",
    "\n"
   ]
  },
  {
   "cell_type": "code",
   "execution_count": 2,
   "metadata": {},
   "outputs": [],
   "source": [
    "data = pd.read_csv('data/german_credit.csv')"
   ]
  },
  {
   "cell_type": "code",
   "execution_count": 3,
   "metadata": {},
   "outputs": [
    {
     "data": {
      "text/plain": [
       "(1000, 21)"
      ]
     },
     "execution_count": 3,
     "metadata": {},
     "output_type": "execute_result"
    }
   ],
   "source": [
    "data.shape"
   ]
  },
  {
   "cell_type": "code",
   "execution_count": 4,
   "metadata": {
    "scrolled": true
   },
   "outputs": [
    {
     "data": {
      "text/html": [
       "<div>\n",
       "<style scoped>\n",
       "    .dataframe tbody tr th:only-of-type {\n",
       "        vertical-align: middle;\n",
       "    }\n",
       "\n",
       "    .dataframe tbody tr th {\n",
       "        vertical-align: top;\n",
       "    }\n",
       "\n",
       "    .dataframe thead th {\n",
       "        text-align: right;\n",
       "    }\n",
       "</style>\n",
       "<table border=\"1\" class=\"dataframe\">\n",
       "  <thead>\n",
       "    <tr style=\"text-align: right;\">\n",
       "      <th></th>\n",
       "      <th>Creditability</th>\n",
       "      <th>Account Balance</th>\n",
       "      <th>Duration of Credit (month)</th>\n",
       "      <th>Payment Status of Previous Credit</th>\n",
       "      <th>Purpose</th>\n",
       "      <th>Credit Amount</th>\n",
       "      <th>Value Savings/Stocks</th>\n",
       "      <th>Length of current employment</th>\n",
       "      <th>Instalment per cent</th>\n",
       "      <th>Sex &amp; Marital Status</th>\n",
       "      <th>...</th>\n",
       "      <th>Duration in Current address</th>\n",
       "      <th>Most valuable available asset</th>\n",
       "      <th>Age (years)</th>\n",
       "      <th>Concurrent Credits</th>\n",
       "      <th>Type of apartment</th>\n",
       "      <th>No of Credits at this Bank</th>\n",
       "      <th>Occupation</th>\n",
       "      <th>No of dependents</th>\n",
       "      <th>Telephone</th>\n",
       "      <th>Foreign Worker</th>\n",
       "    </tr>\n",
       "  </thead>\n",
       "  <tbody>\n",
       "    <tr>\n",
       "      <th>0</th>\n",
       "      <td>1</td>\n",
       "      <td>1</td>\n",
       "      <td>18</td>\n",
       "      <td>4</td>\n",
       "      <td>2</td>\n",
       "      <td>1049</td>\n",
       "      <td>1</td>\n",
       "      <td>2</td>\n",
       "      <td>4</td>\n",
       "      <td>2</td>\n",
       "      <td>...</td>\n",
       "      <td>4</td>\n",
       "      <td>2</td>\n",
       "      <td>21</td>\n",
       "      <td>3</td>\n",
       "      <td>1</td>\n",
       "      <td>1</td>\n",
       "      <td>3</td>\n",
       "      <td>1</td>\n",
       "      <td>1</td>\n",
       "      <td>1</td>\n",
       "    </tr>\n",
       "    <tr>\n",
       "      <th>1</th>\n",
       "      <td>1</td>\n",
       "      <td>1</td>\n",
       "      <td>9</td>\n",
       "      <td>4</td>\n",
       "      <td>0</td>\n",
       "      <td>2799</td>\n",
       "      <td>1</td>\n",
       "      <td>3</td>\n",
       "      <td>2</td>\n",
       "      <td>3</td>\n",
       "      <td>...</td>\n",
       "      <td>2</td>\n",
       "      <td>1</td>\n",
       "      <td>36</td>\n",
       "      <td>3</td>\n",
       "      <td>1</td>\n",
       "      <td>2</td>\n",
       "      <td>3</td>\n",
       "      <td>2</td>\n",
       "      <td>1</td>\n",
       "      <td>1</td>\n",
       "    </tr>\n",
       "    <tr>\n",
       "      <th>2</th>\n",
       "      <td>1</td>\n",
       "      <td>2</td>\n",
       "      <td>12</td>\n",
       "      <td>2</td>\n",
       "      <td>9</td>\n",
       "      <td>841</td>\n",
       "      <td>2</td>\n",
       "      <td>4</td>\n",
       "      <td>2</td>\n",
       "      <td>2</td>\n",
       "      <td>...</td>\n",
       "      <td>4</td>\n",
       "      <td>1</td>\n",
       "      <td>23</td>\n",
       "      <td>3</td>\n",
       "      <td>1</td>\n",
       "      <td>1</td>\n",
       "      <td>2</td>\n",
       "      <td>1</td>\n",
       "      <td>1</td>\n",
       "      <td>1</td>\n",
       "    </tr>\n",
       "    <tr>\n",
       "      <th>3</th>\n",
       "      <td>1</td>\n",
       "      <td>1</td>\n",
       "      <td>12</td>\n",
       "      <td>4</td>\n",
       "      <td>0</td>\n",
       "      <td>2122</td>\n",
       "      <td>1</td>\n",
       "      <td>3</td>\n",
       "      <td>3</td>\n",
       "      <td>3</td>\n",
       "      <td>...</td>\n",
       "      <td>2</td>\n",
       "      <td>1</td>\n",
       "      <td>39</td>\n",
       "      <td>3</td>\n",
       "      <td>1</td>\n",
       "      <td>2</td>\n",
       "      <td>2</td>\n",
       "      <td>2</td>\n",
       "      <td>1</td>\n",
       "      <td>2</td>\n",
       "    </tr>\n",
       "    <tr>\n",
       "      <th>4</th>\n",
       "      <td>1</td>\n",
       "      <td>1</td>\n",
       "      <td>12</td>\n",
       "      <td>4</td>\n",
       "      <td>0</td>\n",
       "      <td>2171</td>\n",
       "      <td>1</td>\n",
       "      <td>3</td>\n",
       "      <td>4</td>\n",
       "      <td>3</td>\n",
       "      <td>...</td>\n",
       "      <td>4</td>\n",
       "      <td>2</td>\n",
       "      <td>38</td>\n",
       "      <td>1</td>\n",
       "      <td>2</td>\n",
       "      <td>2</td>\n",
       "      <td>2</td>\n",
       "      <td>1</td>\n",
       "      <td>1</td>\n",
       "      <td>2</td>\n",
       "    </tr>\n",
       "  </tbody>\n",
       "</table>\n",
       "<p>5 rows × 21 columns</p>\n",
       "</div>"
      ],
      "text/plain": [
       "   Creditability  Account Balance  Duration of Credit (month)  \\\n",
       "0              1                1                          18   \n",
       "1              1                1                           9   \n",
       "2              1                2                          12   \n",
       "3              1                1                          12   \n",
       "4              1                1                          12   \n",
       "\n",
       "   Payment Status of Previous Credit  Purpose  Credit Amount  \\\n",
       "0                                  4        2           1049   \n",
       "1                                  4        0           2799   \n",
       "2                                  2        9            841   \n",
       "3                                  4        0           2122   \n",
       "4                                  4        0           2171   \n",
       "\n",
       "   Value Savings/Stocks  Length of current employment  Instalment per cent  \\\n",
       "0                     1                             2                    4   \n",
       "1                     1                             3                    2   \n",
       "2                     2                             4                    2   \n",
       "3                     1                             3                    3   \n",
       "4                     1                             3                    4   \n",
       "\n",
       "   Sex & Marital Status  ...  Duration in Current address  \\\n",
       "0                     2  ...                            4   \n",
       "1                     3  ...                            2   \n",
       "2                     2  ...                            4   \n",
       "3                     3  ...                            2   \n",
       "4                     3  ...                            4   \n",
       "\n",
       "   Most valuable available asset  Age (years)  Concurrent Credits  \\\n",
       "0                              2           21                   3   \n",
       "1                              1           36                   3   \n",
       "2                              1           23                   3   \n",
       "3                              1           39                   3   \n",
       "4                              2           38                   1   \n",
       "\n",
       "   Type of apartment  No of Credits at this Bank  Occupation  \\\n",
       "0                  1                           1           3   \n",
       "1                  1                           2           3   \n",
       "2                  1                           1           2   \n",
       "3                  1                           2           2   \n",
       "4                  2                           2           2   \n",
       "\n",
       "   No of dependents  Telephone  Foreign Worker  \n",
       "0                 1          1               1  \n",
       "1                 2          1               1  \n",
       "2                 1          1               1  \n",
       "3                 2          1               2  \n",
       "4                 1          1               2  \n",
       "\n",
       "[5 rows x 21 columns]"
      ]
     },
     "execution_count": 4,
     "metadata": {},
     "output_type": "execute_result"
    }
   ],
   "source": [
    "data.head()"
   ]
  },
  {
   "cell_type": "code",
   "execution_count": 5,
   "metadata": {
    "scrolled": true
   },
   "outputs": [
    {
     "data": {
      "text/plain": [
       "Creditability                        0\n",
       "Account Balance                      0\n",
       "Duration of Credit (month)           0\n",
       "Payment Status of Previous Credit    0\n",
       "Purpose                              0\n",
       "Credit Amount                        0\n",
       "Value Savings/Stocks                 0\n",
       "Length of current employment         0\n",
       "Instalment per cent                  0\n",
       "Sex & Marital Status                 0\n",
       "Guarantors                           0\n",
       "Duration in Current address          0\n",
       "Most valuable available asset        0\n",
       "Age (years)                          0\n",
       "Concurrent Credits                   0\n",
       "Type of apartment                    0\n",
       "No of Credits at this Bank           0\n",
       "Occupation                           0\n",
       "No of dependents                     0\n",
       "Telephone                            0\n",
       "Foreign Worker                       0\n",
       "dtype: int64"
      ]
     },
     "execution_count": 5,
     "metadata": {},
     "output_type": "execute_result"
    }
   ],
   "source": [
    "data.isnull().sum()"
   ]
  },
  {
   "cell_type": "code",
   "execution_count": 6,
   "metadata": {},
   "outputs": [
    {
     "data": {
      "text/plain": [
       "1    700\n",
       "0    300\n",
       "Name: Creditability, dtype: int64"
      ]
     },
     "execution_count": 6,
     "metadata": {},
     "output_type": "execute_result"
    }
   ],
   "source": [
    "data['Creditability'].value_counts()"
   ]
  },
  {
   "cell_type": "code",
   "execution_count": 7,
   "metadata": {
    "scrolled": false
   },
   "outputs": [
    {
     "data": {
      "text/plain": [
       "Index(['Creditability', 'Account Balance', 'Duration of Credit (month)',\n",
       "       'Payment Status of Previous Credit', 'Purpose', 'Credit Amount',\n",
       "       'Value Savings/Stocks', 'Length of current employment',\n",
       "       'Instalment per cent', 'Sex & Marital Status', 'Guarantors',\n",
       "       'Duration in Current address', 'Most valuable available asset',\n",
       "       'Age (years)', 'Concurrent Credits', 'Type of apartment',\n",
       "       'No of Credits at this Bank', 'Occupation', 'No of dependents',\n",
       "       'Telephone', 'Foreign Worker'],\n",
       "      dtype='object')"
      ]
     },
     "execution_count": 7,
     "metadata": {},
     "output_type": "execute_result"
    }
   ],
   "source": [
    "data.columns"
   ]
  },
  {
   "cell_type": "code",
   "execution_count": 116,
   "metadata": {},
   "outputs": [],
   "source": [
    "X = data[['Account Balance', 'Duration of Credit (month)',\n",
    "       'Payment Status of Previous Credit', 'Purpose', 'Credit Amount',\n",
    "       'Value Savings/Stocks', 'Length of current employment',\n",
    "       'Instalment per cent', 'Sex & Marital Status', 'Guarantors',\n",
    "       'Duration in Current address', 'Most valuable available asset',\n",
    "       'Age (years)', 'Concurrent Credits', 'Type of apartment',\n",
    "       'No of Credits at this Bank', 'Occupation', 'No of dependents',\n",
    "       'Telephone', 'Foreign Worker']]\n",
    "y = data['Creditability']"
   ]
  },
  {
   "cell_type": "code",
   "execution_count": 107,
   "metadata": {},
   "outputs": [],
   "source": [
    "# 데이터 컬럼 순서 변경 테스트\n",
    "# X = data[[ 'Duration of Credit (month)',\n",
    "#        'Payment Status of Previous Credit','Occupation', 'Purpose', \n",
    "#         'Length of current employment', 'Most valuable available asset',\n",
    "#        'Instalment per cent', 'Sex & Marital Status', 'Guarantors','Credit Amount',\n",
    "#        'Duration in Current address','Value Savings/Stocks',\n",
    "#        'Age (years)', 'Concurrent Credits', 'Type of apartment',\n",
    "#        'No of Credits at this Bank',  'No of dependents',\n",
    "#        'Telephone','Account Balance', 'Foreign Worker']]"
   ]
  },
  {
   "cell_type": "code",
   "execution_count": 117,
   "metadata": {
    "scrolled": true
   },
   "outputs": [
    {
     "data": {
      "text/plain": [
       "Account Balance                      int64\n",
       "Duration of Credit (month)           int64\n",
       "Payment Status of Previous Credit    int64\n",
       "Purpose                              int64\n",
       "Credit Amount                        int64\n",
       "Value Savings/Stocks                 int64\n",
       "Length of current employment         int64\n",
       "Instalment per cent                  int64\n",
       "Sex & Marital Status                 int64\n",
       "Guarantors                           int64\n",
       "Duration in Current address          int64\n",
       "Most valuable available asset        int64\n",
       "Age (years)                          int64\n",
       "Concurrent Credits                   int64\n",
       "Type of apartment                    int64\n",
       "No of Credits at this Bank           int64\n",
       "Occupation                           int64\n",
       "No of dependents                     int64\n",
       "Telephone                            int64\n",
       "Foreign Worker                       int64\n",
       "dtype: object"
      ]
     },
     "execution_count": 117,
     "metadata": {},
     "output_type": "execute_result"
    }
   ],
   "source": [
    "X.dtypes"
   ]
  },
  {
   "cell_type": "code",
   "execution_count": 118,
   "metadata": {
    "scrolled": true
   },
   "outputs": [
    {
     "data": {
      "text/html": [
       "<div>\n",
       "<style scoped>\n",
       "    .dataframe tbody tr th:only-of-type {\n",
       "        vertical-align: middle;\n",
       "    }\n",
       "\n",
       "    .dataframe tbody tr th {\n",
       "        vertical-align: top;\n",
       "    }\n",
       "\n",
       "    .dataframe thead th {\n",
       "        text-align: right;\n",
       "    }\n",
       "</style>\n",
       "<table border=\"1\" class=\"dataframe\">\n",
       "  <thead>\n",
       "    <tr style=\"text-align: right;\">\n",
       "      <th></th>\n",
       "      <th>Account Balance</th>\n",
       "      <th>Duration of Credit (month)</th>\n",
       "      <th>Payment Status of Previous Credit</th>\n",
       "      <th>Purpose</th>\n",
       "      <th>Credit Amount</th>\n",
       "      <th>Value Savings/Stocks</th>\n",
       "      <th>Length of current employment</th>\n",
       "      <th>Instalment per cent</th>\n",
       "      <th>Sex &amp; Marital Status</th>\n",
       "      <th>Guarantors</th>\n",
       "      <th>Duration in Current address</th>\n",
       "      <th>Most valuable available asset</th>\n",
       "      <th>Age (years)</th>\n",
       "      <th>Concurrent Credits</th>\n",
       "      <th>Type of apartment</th>\n",
       "      <th>No of Credits at this Bank</th>\n",
       "      <th>Occupation</th>\n",
       "      <th>No of dependents</th>\n",
       "      <th>Telephone</th>\n",
       "      <th>Foreign Worker</th>\n",
       "    </tr>\n",
       "  </thead>\n",
       "  <tbody>\n",
       "    <tr>\n",
       "      <th>count</th>\n",
       "      <td>1000.000000</td>\n",
       "      <td>1000.000000</td>\n",
       "      <td>1000.00000</td>\n",
       "      <td>1000.000000</td>\n",
       "      <td>1000.00000</td>\n",
       "      <td>1000.000000</td>\n",
       "      <td>1000.000000</td>\n",
       "      <td>1000.000000</td>\n",
       "      <td>1000.00000</td>\n",
       "      <td>1000.000000</td>\n",
       "      <td>1000.000000</td>\n",
       "      <td>1000.000000</td>\n",
       "      <td>1000.00000</td>\n",
       "      <td>1000.000000</td>\n",
       "      <td>1000.000000</td>\n",
       "      <td>1000.000000</td>\n",
       "      <td>1000.000000</td>\n",
       "      <td>1000.000000</td>\n",
       "      <td>1000.000000</td>\n",
       "      <td>1000.000000</td>\n",
       "    </tr>\n",
       "    <tr>\n",
       "      <th>mean</th>\n",
       "      <td>2.577000</td>\n",
       "      <td>20.903000</td>\n",
       "      <td>2.54500</td>\n",
       "      <td>2.828000</td>\n",
       "      <td>3271.24800</td>\n",
       "      <td>2.105000</td>\n",
       "      <td>3.384000</td>\n",
       "      <td>2.973000</td>\n",
       "      <td>2.68200</td>\n",
       "      <td>1.145000</td>\n",
       "      <td>2.845000</td>\n",
       "      <td>2.358000</td>\n",
       "      <td>35.54200</td>\n",
       "      <td>2.675000</td>\n",
       "      <td>1.928000</td>\n",
       "      <td>1.407000</td>\n",
       "      <td>2.904000</td>\n",
       "      <td>1.155000</td>\n",
       "      <td>1.404000</td>\n",
       "      <td>1.037000</td>\n",
       "    </tr>\n",
       "    <tr>\n",
       "      <th>std</th>\n",
       "      <td>1.257638</td>\n",
       "      <td>12.058814</td>\n",
       "      <td>1.08312</td>\n",
       "      <td>2.744439</td>\n",
       "      <td>2822.75176</td>\n",
       "      <td>1.580023</td>\n",
       "      <td>1.208306</td>\n",
       "      <td>1.118715</td>\n",
       "      <td>0.70808</td>\n",
       "      <td>0.477706</td>\n",
       "      <td>1.103718</td>\n",
       "      <td>1.050209</td>\n",
       "      <td>11.35267</td>\n",
       "      <td>0.705601</td>\n",
       "      <td>0.530186</td>\n",
       "      <td>0.577654</td>\n",
       "      <td>0.653614</td>\n",
       "      <td>0.362086</td>\n",
       "      <td>0.490943</td>\n",
       "      <td>0.188856</td>\n",
       "    </tr>\n",
       "    <tr>\n",
       "      <th>min</th>\n",
       "      <td>1.000000</td>\n",
       "      <td>4.000000</td>\n",
       "      <td>0.00000</td>\n",
       "      <td>0.000000</td>\n",
       "      <td>250.00000</td>\n",
       "      <td>1.000000</td>\n",
       "      <td>1.000000</td>\n",
       "      <td>1.000000</td>\n",
       "      <td>1.00000</td>\n",
       "      <td>1.000000</td>\n",
       "      <td>1.000000</td>\n",
       "      <td>1.000000</td>\n",
       "      <td>19.00000</td>\n",
       "      <td>1.000000</td>\n",
       "      <td>1.000000</td>\n",
       "      <td>1.000000</td>\n",
       "      <td>1.000000</td>\n",
       "      <td>1.000000</td>\n",
       "      <td>1.000000</td>\n",
       "      <td>1.000000</td>\n",
       "    </tr>\n",
       "    <tr>\n",
       "      <th>25%</th>\n",
       "      <td>1.000000</td>\n",
       "      <td>12.000000</td>\n",
       "      <td>2.00000</td>\n",
       "      <td>1.000000</td>\n",
       "      <td>1365.50000</td>\n",
       "      <td>1.000000</td>\n",
       "      <td>3.000000</td>\n",
       "      <td>2.000000</td>\n",
       "      <td>2.00000</td>\n",
       "      <td>1.000000</td>\n",
       "      <td>2.000000</td>\n",
       "      <td>1.000000</td>\n",
       "      <td>27.00000</td>\n",
       "      <td>3.000000</td>\n",
       "      <td>2.000000</td>\n",
       "      <td>1.000000</td>\n",
       "      <td>3.000000</td>\n",
       "      <td>1.000000</td>\n",
       "      <td>1.000000</td>\n",
       "      <td>1.000000</td>\n",
       "    </tr>\n",
       "    <tr>\n",
       "      <th>50%</th>\n",
       "      <td>2.000000</td>\n",
       "      <td>18.000000</td>\n",
       "      <td>2.00000</td>\n",
       "      <td>2.000000</td>\n",
       "      <td>2319.50000</td>\n",
       "      <td>1.000000</td>\n",
       "      <td>3.000000</td>\n",
       "      <td>3.000000</td>\n",
       "      <td>3.00000</td>\n",
       "      <td>1.000000</td>\n",
       "      <td>3.000000</td>\n",
       "      <td>2.000000</td>\n",
       "      <td>33.00000</td>\n",
       "      <td>3.000000</td>\n",
       "      <td>2.000000</td>\n",
       "      <td>1.000000</td>\n",
       "      <td>3.000000</td>\n",
       "      <td>1.000000</td>\n",
       "      <td>1.000000</td>\n",
       "      <td>1.000000</td>\n",
       "    </tr>\n",
       "    <tr>\n",
       "      <th>75%</th>\n",
       "      <td>4.000000</td>\n",
       "      <td>24.000000</td>\n",
       "      <td>4.00000</td>\n",
       "      <td>3.000000</td>\n",
       "      <td>3972.25000</td>\n",
       "      <td>3.000000</td>\n",
       "      <td>5.000000</td>\n",
       "      <td>4.000000</td>\n",
       "      <td>3.00000</td>\n",
       "      <td>1.000000</td>\n",
       "      <td>4.000000</td>\n",
       "      <td>3.000000</td>\n",
       "      <td>42.00000</td>\n",
       "      <td>3.000000</td>\n",
       "      <td>2.000000</td>\n",
       "      <td>2.000000</td>\n",
       "      <td>3.000000</td>\n",
       "      <td>1.000000</td>\n",
       "      <td>2.000000</td>\n",
       "      <td>1.000000</td>\n",
       "    </tr>\n",
       "    <tr>\n",
       "      <th>max</th>\n",
       "      <td>4.000000</td>\n",
       "      <td>72.000000</td>\n",
       "      <td>4.00000</td>\n",
       "      <td>10.000000</td>\n",
       "      <td>18424.00000</td>\n",
       "      <td>5.000000</td>\n",
       "      <td>5.000000</td>\n",
       "      <td>4.000000</td>\n",
       "      <td>4.00000</td>\n",
       "      <td>3.000000</td>\n",
       "      <td>4.000000</td>\n",
       "      <td>4.000000</td>\n",
       "      <td>75.00000</td>\n",
       "      <td>3.000000</td>\n",
       "      <td>3.000000</td>\n",
       "      <td>4.000000</td>\n",
       "      <td>4.000000</td>\n",
       "      <td>2.000000</td>\n",
       "      <td>2.000000</td>\n",
       "      <td>2.000000</td>\n",
       "    </tr>\n",
       "  </tbody>\n",
       "</table>\n",
       "</div>"
      ],
      "text/plain": [
       "       Account Balance  Duration of Credit (month)  \\\n",
       "count      1000.000000                 1000.000000   \n",
       "mean          2.577000                   20.903000   \n",
       "std           1.257638                   12.058814   \n",
       "min           1.000000                    4.000000   \n",
       "25%           1.000000                   12.000000   \n",
       "50%           2.000000                   18.000000   \n",
       "75%           4.000000                   24.000000   \n",
       "max           4.000000                   72.000000   \n",
       "\n",
       "       Payment Status of Previous Credit      Purpose  Credit Amount  \\\n",
       "count                         1000.00000  1000.000000     1000.00000   \n",
       "mean                             2.54500     2.828000     3271.24800   \n",
       "std                              1.08312     2.744439     2822.75176   \n",
       "min                              0.00000     0.000000      250.00000   \n",
       "25%                              2.00000     1.000000     1365.50000   \n",
       "50%                              2.00000     2.000000     2319.50000   \n",
       "75%                              4.00000     3.000000     3972.25000   \n",
       "max                              4.00000    10.000000    18424.00000   \n",
       "\n",
       "       Value Savings/Stocks  Length of current employment  \\\n",
       "count           1000.000000                   1000.000000   \n",
       "mean               2.105000                      3.384000   \n",
       "std                1.580023                      1.208306   \n",
       "min                1.000000                      1.000000   \n",
       "25%                1.000000                      3.000000   \n",
       "50%                1.000000                      3.000000   \n",
       "75%                3.000000                      5.000000   \n",
       "max                5.000000                      5.000000   \n",
       "\n",
       "       Instalment per cent  Sex & Marital Status   Guarantors  \\\n",
       "count          1000.000000            1000.00000  1000.000000   \n",
       "mean              2.973000               2.68200     1.145000   \n",
       "std               1.118715               0.70808     0.477706   \n",
       "min               1.000000               1.00000     1.000000   \n",
       "25%               2.000000               2.00000     1.000000   \n",
       "50%               3.000000               3.00000     1.000000   \n",
       "75%               4.000000               3.00000     1.000000   \n",
       "max               4.000000               4.00000     3.000000   \n",
       "\n",
       "       Duration in Current address  Most valuable available asset  \\\n",
       "count                  1000.000000                    1000.000000   \n",
       "mean                      2.845000                       2.358000   \n",
       "std                       1.103718                       1.050209   \n",
       "min                       1.000000                       1.000000   \n",
       "25%                       2.000000                       1.000000   \n",
       "50%                       3.000000                       2.000000   \n",
       "75%                       4.000000                       3.000000   \n",
       "max                       4.000000                       4.000000   \n",
       "\n",
       "       Age (years)  Concurrent Credits  Type of apartment  \\\n",
       "count   1000.00000         1000.000000        1000.000000   \n",
       "mean      35.54200            2.675000           1.928000   \n",
       "std       11.35267            0.705601           0.530186   \n",
       "min       19.00000            1.000000           1.000000   \n",
       "25%       27.00000            3.000000           2.000000   \n",
       "50%       33.00000            3.000000           2.000000   \n",
       "75%       42.00000            3.000000           2.000000   \n",
       "max       75.00000            3.000000           3.000000   \n",
       "\n",
       "       No of Credits at this Bank   Occupation  No of dependents    Telephone  \\\n",
       "count                 1000.000000  1000.000000       1000.000000  1000.000000   \n",
       "mean                     1.407000     2.904000          1.155000     1.404000   \n",
       "std                      0.577654     0.653614          0.362086     0.490943   \n",
       "min                      1.000000     1.000000          1.000000     1.000000   \n",
       "25%                      1.000000     3.000000          1.000000     1.000000   \n",
       "50%                      1.000000     3.000000          1.000000     1.000000   \n",
       "75%                      2.000000     3.000000          1.000000     2.000000   \n",
       "max                      4.000000     4.000000          2.000000     2.000000   \n",
       "\n",
       "       Foreign Worker  \n",
       "count     1000.000000  \n",
       "mean         1.037000  \n",
       "std          0.188856  \n",
       "min          1.000000  \n",
       "25%          1.000000  \n",
       "50%          1.000000  \n",
       "75%          1.000000  \n",
       "max          2.000000  "
      ]
     },
     "execution_count": 118,
     "metadata": {},
     "output_type": "execute_result"
    }
   ],
   "source": [
    "X.describe()"
   ]
  },
  {
   "cell_type": "code",
   "execution_count": 119,
   "metadata": {
    "scrolled": true
   },
   "outputs": [],
   "source": [
    "input_shape = (X.shape[1],)"
   ]
  },
  {
   "cell_type": "code",
   "execution_count": 120,
   "metadata": {},
   "outputs": [],
   "source": [
    "X_train, X_test, y_train, y_test = train_test_split(np.asarray(X),np.asarray(y), test_size=0.3, shuffle=True)"
   ]
  },
  {
   "cell_type": "code",
   "execution_count": 121,
   "metadata": {},
   "outputs": [],
   "source": [
    "sc = StandardScaler()\n",
    "X_train = sc.fit_transform(X_train)\n",
    "X_test = sc.transform(X_test)"
   ]
  },
  {
   "cell_type": "code",
   "execution_count": 122,
   "metadata": {},
   "outputs": [],
   "source": [
    "cnn_X_train = X_train.reshape(700,20,1)\n",
    "cnn_X_test = X_test.reshape(300,20,1)"
   ]
  },
  {
   "cell_type": "code",
   "execution_count": 123,
   "metadata": {},
   "outputs": [
    {
     "data": {
      "text/plain": [
       "array([[0., 1.],\n",
       "       [0., 1.],\n",
       "       [0., 1.],\n",
       "       ...,\n",
       "       [1., 0.],\n",
       "       [0., 1.],\n",
       "       [0., 1.]], dtype=float32)"
      ]
     },
     "execution_count": 123,
     "metadata": {},
     "output_type": "execute_result"
    }
   ],
   "source": [
    "tmp = to_categorical(y_train, 2)\n",
    "tmp"
   ]
  },
  {
   "cell_type": "code",
   "execution_count": 124,
   "metadata": {},
   "outputs": [],
   "source": [
    "earlystop = EarlyStopping(monitor='val_loss', mode='min', patience=5) "
   ]
  },
  {
   "cell_type": "code",
   "execution_count": 163,
   "metadata": {},
   "outputs": [],
   "source": [
    "def anal_cnn():\n",
    "    \n",
    "    model = Sequential()\n",
    "#     model.add(Conv1D(256, (6), padding='same', input_shape=(X.shape[1], 1), activation='relu'))\n",
    "    model.add(Conv1D(8, (4), padding='valid', input_shape=(X.shape[1], 1), activation='relu'))\n",
    "#     model.add(MaxPool1D(pool_size=(2)))\n",
    "    model.add(Conv1D(4, (4), padding='valid', activation='relu'))\n",
    "#     model.add(MaxPool1D(pool_size=(2)))\n",
    "    model.add(Conv1D(2, (2), padding='valid',  activation='relu'))\n",
    "#     model.add(MaxPool1D(pool_size=(2)))\n",
    "#     model.add(Conv1D(8, (2), padding='same', input_shape=(X.shape[1], 1), activation='relu'))\n",
    "    # model.add(Conv1D(32, (6),  activation='relu'))\n",
    "    # model.add(MaxPool1D(pool_size=(2)))\n",
    "    # model.add(Dropout(0.25))\n",
    "    # model.add(Conv1D(64, (4), padding='same', activation='relu'))\n",
    "    # model.add(MaxPool1D(pool_size=(2)))\n",
    "    # model.add(Dropout(0.25))\n",
    "    # model.add(Conv1D(64, (5), padding='same', activation='relu'))\n",
    "\n",
    "    model.add(Flatten())\n",
    "    # model.add(Dense(32, activation='relu'))\n",
    "#     model.add(Dense(16, activation='relu'))\n",
    "#     model.add(Dense(8, activation='relu'))\n",
    "#     model.add(Dense(4, activation='relu'))\n",
    "    model.add(Dense(1, activation='sigmoid'))\n",
    "\n",
    "    model.compile(loss=binary_crossentropy,\n",
    "                 optimizer=Adam(learning_rate=0.0001),\n",
    "                 metrics=['accuracy'])\n",
    "    \n",
    "    print(\"------model summary--------\")\n",
    "    print(model.summary())\n",
    "    \n",
    "    history = model.fit(cnn_X_train,\n",
    "                 y_train,\n",
    "                 batch_size=64,\n",
    "                 epochs=3000, \n",
    "                 verbose=0,\n",
    "                 validation_split=0.3,\n",
    "                 )\n",
    "    \n",
    "    # callbacks=[earlystop]\n",
    "    \n",
    "    #make chart   \n",
    "    plt.plot(history.history['accuracy'])\n",
    "    plt.plot(history.history['val_accuracy'])\n",
    "    plt.title('model accuracy')\n",
    "    plt.ylabel('accuracy')\n",
    "    plt.xlabel('epoch')\n",
    "    plt.legend(['train', 'test'], loc='upper left')\n",
    "    plt.show()\n",
    "    # summarize history for loss\n",
    "    plt.plot(history.history['loss'])\n",
    "    plt.plot(history.history['val_loss'])\n",
    "    plt.title('model loss')\n",
    "    plt.ylabel('loss')\n",
    "    plt.xlabel('epoch')\n",
    "    plt.legend(['train', 'test'], loc='upper left')\n",
    "    plt.show()\n",
    "    \n",
    "\n",
    "    y_pred = model.predict_classes(cnn_X_test)\n",
    "    print(classification_report(y_test, y_pred))\n",
    "    \n",
    "    \n",
    "    roc_auc = roc_auc_score(y_test, y_pred)\n",
    "    fpr, tpr, thresholds = roc_curve(y_test, y_pred)\n",
    "\n",
    "    plt.figure()\n",
    "    plt.plot(fpr, tpr, label='CNN (area=%0.2f)'%roc_auc)\n",
    "    plt.plot([0,1],[0,1],'r--')\n",
    "    plt.xlim([0.0, 1.0])\n",
    "    plt.ylim([0.0, 1.05])\n",
    "    plt.xlabel('False Positive Rate')\n",
    "    plt.ylabel('True Positive Rate')\n",
    "    plt.title('CNN ROC Curve')\n",
    "    plt.legend(loc='lower right')\n",
    "    plt.savefig('Log_ROC')\n",
    "    plt.show()"
   ]
  },
  {
   "cell_type": "code",
   "execution_count": 164,
   "metadata": {},
   "outputs": [
    {
     "name": "stdout",
     "output_type": "stream",
     "text": [
      "------model summary--------\n",
      "Model: \"sequential_66\"\n",
      "_________________________________________________________________\n",
      "Layer (type)                 Output Shape              Param #   \n",
      "=================================================================\n",
      "conv1d_97 (Conv1D)           (None, 17, 8)             40        \n",
      "_________________________________________________________________\n",
      "conv1d_98 (Conv1D)           (None, 14, 4)             132       \n",
      "_________________________________________________________________\n",
      "conv1d_99 (Conv1D)           (None, 13, 2)             18        \n",
      "_________________________________________________________________\n",
      "flatten_49 (Flatten)         (None, 26)                0         \n",
      "_________________________________________________________________\n",
      "dense_127 (Dense)            (None, 1)                 27        \n",
      "=================================================================\n",
      "Total params: 217\n",
      "Trainable params: 217\n",
      "Non-trainable params: 0\n",
      "_________________________________________________________________\n",
      "None\n"
     ]
    },
    {
     "data": {
      "image/png": "[encoded data removed]",
      "text/plain": [
       "<Figure size 432x288 with 1 Axes>"
      ]
     },
     "metadata": {
      "needs_background": "light"
     },
     "output_type": "display_data"
    },
    {
     "data": {
      "image/png": "[encoded data removed]",
      "text/plain": [
       "<Figure size 432x288 with 1 Axes>"
      ]
     },
     "metadata": {
      "needs_background": "light"
     },
     "output_type": "display_data"
    },
    {
     "name": "stdout",
     "output_type": "stream",
     "text": [
      "              precision    recall  f1-score   support\n",
      "\n",
      "           0       0.50      0.46      0.48        85\n",
      "           1       0.79      0.82      0.81       215\n",
      "\n",
      "    accuracy                           0.72       300\n",
      "   macro avg       0.65      0.64      0.64       300\n",
      "weighted avg       0.71      0.72      0.71       300\n",
      "\n"
     ]
    },
    {
     "data": {
      "image/png": "[encoded data removed]",
      "text/plain": [
       "<Figure size 432x288 with 1 Axes>"
      ]
     },
     "metadata": {
      "needs_background": "light"
     },
     "output_type": "display_data"
    }
   ],
   "source": [
    "anal_cnn()"
   ]
  },
  {
   "cell_type": "code",
   "execution_count": 165,
   "metadata": {},
   "outputs": [],
   "source": [
    "def anal_dnn():\n",
    "    \n",
    "    model2 = Sequential()\n",
    "#     model2.add(Dense(units=int(X_train.shape[1]/2), input_dim=X_train.shape[1], activation='relu'))\n",
    "#     model2.add(Dense(units=int(X_train.shape[1]/4), activation='relu'))\n",
    "    model2.add(Dense(units=2, input_dim=X_train.shape[1], activation='relu'))\n",
    "#     model2.add(Dense(units=8, input_dim=X_train.shape[1], activation='relu'))\n",
    "    # model2.add(Dense(units=16, activation='relu'))\n",
    "    model2.add(Dense(units=1, activation='sigmoid'))\n",
    "\n",
    "    model2.compile(loss='binary_crossentropy',\n",
    "                  optimizer=Adam(learning_rate=0.0001),\n",
    "                  metrics=['accuracy'])\n",
    "    \n",
    "    history2 = model2.fit(X_train, y_train, \n",
    "                      validation_split=0.3, \n",
    "                      epochs=1000, \n",
    "                      batch_size=8, \n",
    "                      verbose=0)\n",
    "    \n",
    "    y_pred2 = model2.predict_classes(X_test)\n",
    "    print(classification_report(y_test, y_pred2))\n",
    "    \n",
    "    plt.plot(history2.history['accuracy'])\n",
    "    plt.plot(history2.history['val_accuracy'])\n",
    "    plt.title('model accuracy')\n",
    "    plt.ylabel('accuracy')\n",
    "    plt.xlabel('epoch')\n",
    "    plt.legend(['train', 'test'], loc='upper left')\n",
    "    plt.show()\n",
    "    # summarize history for loss\n",
    "    plt.plot(history2.history['loss'])\n",
    "    plt.plot(history2.history['val_loss'])\n",
    "    plt.title('model loss')\n",
    "    plt.ylabel('loss')\n",
    "    plt.xlabel('epoch')\n",
    "    plt.legend(['train', 'test'], loc='upper left')\n",
    "    plt.show()\n",
    "    \n",
    "    roc_auc = roc_auc_score(y_test, y_pred2)\n",
    "    fpr, tpr, thresholds = roc_curve(y_test, y_pred2)\n",
    "\n",
    "    plt.figure()\n",
    "    plt.plot(fpr, tpr, label='DNN (area=%0.2f)'%roc_auc)\n",
    "    plt.plot([0,1],[0,1],'r--')\n",
    "    plt.xlim([0.0, 1.0])\n",
    "    plt.ylim([0.0, 1.05])\n",
    "    plt.xlabel('False Positive Rate')\n",
    "    plt.ylabel('True Positive Rate')\n",
    "    plt.title('DNN ROC Curve')\n",
    "    plt.legend(loc='lower right')\n",
    "    plt.savefig('Log_ROC')\n",
    "    plt.show()"
   ]
  },
  {
   "cell_type": "code",
   "execution_count": 166,
   "metadata": {},
   "outputs": [
    {
     "name": "stdout",
     "output_type": "stream",
     "text": [
      "              precision    recall  f1-score   support\n",
      "\n",
      "           0       0.62      0.51      0.56        85\n",
      "           1       0.82      0.88      0.85       215\n",
      "\n",
      "    accuracy                           0.77       300\n",
      "   macro avg       0.72      0.69      0.70       300\n",
      "weighted avg       0.76      0.77      0.77       300\n",
      "\n"
     ]
    },
    {
     "data": {
      "image/png": "[encoded data removed]",
      "text/plain": [
       "<Figure size 432x288 with 1 Axes>"
      ]
     },
     "metadata": {
      "needs_background": "light"
     },
     "output_type": "display_data"
    },
    {
     "data": {
      "image/png": "[encoded data removed]",
      "text/plain": [
       "<Figure size 432x288 with 1 Axes>"
      ]
     },
     "metadata": {
      "needs_background": "light"
     },
     "output_type": "display_data"
    },
    {
     "data": {
      "image/png": "[encoded data removed]",
      "text/plain": [
       "<Figure size 432x288 with 1 Axes>"
      ]
     },
     "metadata": {
      "needs_background": "light"
     },
     "output_type": "display_data"
    }
   ],
   "source": [
    "anal_dnn()"
   ]
  },
  {
   "cell_type": "code",
   "execution_count": null,
   "metadata": {},
   "outputs": [],
   "source": []
  }
 ],
 "metadata": {
  "kernelspec": {
   "display_name": "Python 3",
   "language": "python",
   "name": "python3"
  },
  "language_info": {
   "codemirror_mode": {
    "name": "ipython",
    "version": 3
   },
   "file_extension": ".py",
   "mimetype": "text/x-python",
   "name": "python",
   "nbconvert_exporter": "python",
   "pygments_lexer": "ipython3",
   "version": "3.7.5"
  }
 },
 "nbformat": 4,
 "nbformat_minor": 2
}
